{
 "cells": [
  {
   "cell_type": "markdown",
   "metadata": {},
   "source": [
    "##### Nesta etapa, o objetivo é executar todas as ações necessárias para preparar o DataFrame original para passar pelo processo de modelagem.\n",
    "        Dessa forma, algumas etapas são necessárias:\n",
    "                Limpeza e tratamento de dados faltantes e outliers, se necessário;\n",
    "                Transformação de dados, como a normalização e padronização;\n",
    "                Feature engineering, com a criação de relações com dados e a verificação de inconsistências;\n",
    "                Resultado: Um novo DF preparado para a etapa de modelagem. "
   ]
  },
  {
   "cell_type": "markdown",
   "metadata": {},
   "source": [
    "### Importando os dados"
   ]
  },
  {
   "cell_type": "code",
   "execution_count": 4,
   "metadata": {},
   "outputs": [],
   "source": [
    "import pandas as pd\n",
    "import numpy as np\n",
    "import matplotlib.pyplot as plt\n",
    "import seaborn as sns\n",
    "# proximos passos: \n",
    "# pre processamento - tratamento de nulos, desenvolvimento das ideias das novas variaveis (features) (criá-las postoeriormente permite cross-validation...),\n",
    "# pipeline do treinamento do modelo -> tratamento de outliers, encoder, normalização, criação propriamente dita da feature\n",
    "# entrada da base original -> pre processamento -> base de saida preparada para modelagem"
   ]
  },
  {
   "cell_type": "code",
   "execution_count": 5,
   "metadata": {},
   "outputs": [
    {
     "data": {
      "text/html": [
       "<div>\n",
       "<style scoped>\n",
       "    .dataframe tbody tr th:only-of-type {\n",
       "        vertical-align: middle;\n",
       "    }\n",
       "\n",
       "    .dataframe tbody tr th {\n",
       "        vertical-align: top;\n",
       "    }\n",
       "\n",
       "    .dataframe thead th {\n",
       "        text-align: right;\n",
       "    }\n",
       "</style>\n",
       "<table border=\"1\" class=\"dataframe\">\n",
       "  <thead>\n",
       "    <tr style=\"text-align: right;\">\n",
       "      <th></th>\n",
       "      <th>PassengerId</th>\n",
       "      <th>Survived</th>\n",
       "      <th>Pclass</th>\n",
       "      <th>Name</th>\n",
       "      <th>Sex</th>\n",
       "      <th>Age</th>\n",
       "      <th>SibSp</th>\n",
       "      <th>Parch</th>\n",
       "      <th>Ticket</th>\n",
       "      <th>Fare</th>\n",
       "      <th>Cabin</th>\n",
       "      <th>Embarked</th>\n",
       "    </tr>\n",
       "  </thead>\n",
       "  <tbody>\n",
       "    <tr>\n",
       "      <th>0</th>\n",
       "      <td>1</td>\n",
       "      <td>0</td>\n",
       "      <td>3</td>\n",
       "      <td>Braund, Mr. Owen Harris</td>\n",
       "      <td>male</td>\n",
       "      <td>22.0</td>\n",
       "      <td>1</td>\n",
       "      <td>0</td>\n",
       "      <td>A/5 21171</td>\n",
       "      <td>7.2500</td>\n",
       "      <td>NaN</td>\n",
       "      <td>S</td>\n",
       "    </tr>\n",
       "    <tr>\n",
       "      <th>1</th>\n",
       "      <td>2</td>\n",
       "      <td>1</td>\n",
       "      <td>1</td>\n",
       "      <td>Cumings, Mrs. John Bradley (Florence Briggs Th...</td>\n",
       "      <td>female</td>\n",
       "      <td>38.0</td>\n",
       "      <td>1</td>\n",
       "      <td>0</td>\n",
       "      <td>PC 17599</td>\n",
       "      <td>71.2833</td>\n",
       "      <td>C85</td>\n",
       "      <td>C</td>\n",
       "    </tr>\n",
       "    <tr>\n",
       "      <th>2</th>\n",
       "      <td>3</td>\n",
       "      <td>1</td>\n",
       "      <td>3</td>\n",
       "      <td>Heikkinen, Miss. Laina</td>\n",
       "      <td>female</td>\n",
       "      <td>26.0</td>\n",
       "      <td>0</td>\n",
       "      <td>0</td>\n",
       "      <td>STON/O2. 3101282</td>\n",
       "      <td>7.9250</td>\n",
       "      <td>NaN</td>\n",
       "      <td>S</td>\n",
       "    </tr>\n",
       "    <tr>\n",
       "      <th>3</th>\n",
       "      <td>4</td>\n",
       "      <td>1</td>\n",
       "      <td>1</td>\n",
       "      <td>Futrelle, Mrs. Jacques Heath (Lily May Peel)</td>\n",
       "      <td>female</td>\n",
       "      <td>35.0</td>\n",
       "      <td>1</td>\n",
       "      <td>0</td>\n",
       "      <td>113803</td>\n",
       "      <td>53.1000</td>\n",
       "      <td>C123</td>\n",
       "      <td>S</td>\n",
       "    </tr>\n",
       "    <tr>\n",
       "      <th>4</th>\n",
       "      <td>5</td>\n",
       "      <td>0</td>\n",
       "      <td>3</td>\n",
       "      <td>Allen, Mr. William Henry</td>\n",
       "      <td>male</td>\n",
       "      <td>35.0</td>\n",
       "      <td>0</td>\n",
       "      <td>0</td>\n",
       "      <td>373450</td>\n",
       "      <td>8.0500</td>\n",
       "      <td>NaN</td>\n",
       "      <td>S</td>\n",
       "    </tr>\n",
       "  </tbody>\n",
       "</table>\n",
       "</div>"
      ],
      "text/plain": [
       "   PassengerId  Survived  Pclass  \\\n",
       "0            1         0       3   \n",
       "1            2         1       1   \n",
       "2            3         1       3   \n",
       "3            4         1       1   \n",
       "4            5         0       3   \n",
       "\n",
       "                                                Name     Sex   Age  SibSp  \\\n",
       "0                            Braund, Mr. Owen Harris    male  22.0      1   \n",
       "1  Cumings, Mrs. John Bradley (Florence Briggs Th...  female  38.0      1   \n",
       "2                             Heikkinen, Miss. Laina  female  26.0      0   \n",
       "3       Futrelle, Mrs. Jacques Heath (Lily May Peel)  female  35.0      1   \n",
       "4                           Allen, Mr. William Henry    male  35.0      0   \n",
       "\n",
       "   Parch            Ticket     Fare Cabin Embarked  \n",
       "0      0         A/5 21171   7.2500   NaN        S  \n",
       "1      0          PC 17599  71.2833   C85        C  \n",
       "2      0  STON/O2. 3101282   7.9250   NaN        S  \n",
       "3      0            113803  53.1000  C123        S  \n",
       "4      0            373450   8.0500   NaN        S  "
      ]
     },
     "execution_count": 5,
     "metadata": {},
     "output_type": "execute_result"
    }
   ],
   "source": [
    "train_df = pd.read_csv(r\"C:\\Users\\Fernando Costa\\Desktop\\Arquivos Lucas\\DS\\Projetos GITHUB\\Titanic\\Base_dados\\train.csv\")\n",
    "df_model = train_df.copy()\n",
    "df_model.head(5)"
   ]
  },
  {
   "cell_type": "code",
   "execution_count": 6,
   "metadata": {},
   "outputs": [
    {
     "name": "stdout",
     "output_type": "stream",
     "text": [
      "O DF tem 891 linhas.\n",
      "PassengerId    891\n",
      "Survived         2\n",
      "Pclass           3\n",
      "Name           891\n",
      "Sex              2\n",
      "Age             88\n",
      "SibSp            7\n",
      "Parch            7\n",
      "Ticket         681\n",
      "Fare           248\n",
      "Cabin          147\n",
      "Embarked         3\n",
      "dtype: int64\n"
     ]
    }
   ],
   "source": [
    "# Executando uma breve verificação se as outras colunas (além de PassengerID, Name e Ticket) são ou não relevantes para a predição de dados:\n",
    "num_rows = df_model.shape[0]\n",
    "# Número total de linhas no DataFrame\n",
    "print(f\"O DF tem {num_rows} linhas.\")\n",
    "# Calculando o número de valores únicos em cada coluna\n",
    "unique_counts = df_model.nunique()\n",
    "print(unique_counts)"
   ]
  },
  {
   "cell_type": "markdown",
   "metadata": {},
   "source": [
    "• Agora, removeremos as colunas dispensáveis para o nosso modelo, já que não carregam caracteristica preditora, pois tem muitas informações \"únicas\", além da própria análise do que cada uma delas representa, como por exemplo 'PassengerId', 'Name' ou 'Cabin."
   ]
  },
  {
   "cell_type": "code",
   "execution_count": 7,
   "metadata": {},
   "outputs": [],
   "source": [
    "# Executando uma limpeza básica dos dados, excluindo as colunas que não auxiliam na predição:\n",
    "df_model.drop(columns=[\"PassengerId\", \"Name\", \"Ticket\"], inplace= True)"
   ]
  },
  {
   "cell_type": "markdown",
   "metadata": {},
   "source": [
    "## Data Cleaning"
   ]
  },
  {
   "cell_type": "markdown",
   "metadata": {},
   "source": [
    "### Tratando os valores nulos"
   ]
  },
  {
   "cell_type": "markdown",
   "metadata": {},
   "source": [
    "Como visto na etapa do EDA, existiam valores nulos nas colunas de 'Age', 'Cabin' e 'Embarked', assim, preencheremos seus nulos respectivamente com valores impossíveis de serem alcançados por esses parâmetros, respeitando o dtype das colunas."
   ]
  },
  {
   "cell_type": "code",
   "execution_count": 8,
   "metadata": {},
   "outputs": [],
   "source": [
    "df_model[\"Age\"] = df_model[\"Age\"].fillna(-1)"
   ]
  },
  {
   "cell_type": "code",
   "execution_count": 9,
   "metadata": {},
   "outputs": [],
   "source": [
    "# Preenchendo os valores nulos da coluna \"Cabin\" com dados sintéticos (NA)\n",
    "df_model[\"Cabin\"] = df_model[\"Cabin\"].fillna('NA')"
   ]
  },
  {
   "cell_type": "code",
   "execution_count": 10,
   "metadata": {},
   "outputs": [],
   "source": [
    "df_model[\"Embarked\"] = df_model[\"Embarked\"].fillna(\"NA\")\n",
    "# Verificando as modificações realizadas no data frame original:"
   ]
  },
  {
   "cell_type": "code",
   "execution_count": 11,
   "metadata": {},
   "outputs": [],
   "source": [
    "# Neste caso há apenas dados nulos em colunas específicas, porém, em nova amostras podem haver dados nulos em outras colunsa, assim, é necessário garantir que o projeto saiba lidar com isso.\n",
    "# Desta forma, a substituição dos valores nulos será realizada com base no dtype da coluna:\n",
    "\n",
    "# Criando um dicionário para preencher os valores de acordo com o tipo da coluna:\n",
    "fill_values = {col: -1 if df_model[col].dtype in ['int64', 'float64'] else 'NA' for col in df_model.columns}\n",
    "\n",
    "# Usando fillna() com o dicionário\n",
    "df_model.fillna(value=fill_values, inplace=True)\n"
   ]
  },
  {
   "cell_type": "markdown",
   "metadata": {},
   "source": [
    "## Feature Engineering (Teorico)\n",
    "\n",
    "Introdução de duas novas métricas ao df original que podem auxiliar a previsão do modelo, após segregação de train_test_split, para evitar data leaked."
   ]
  },
  {
   "cell_type": "code",
   "execution_count": 12,
   "metadata": {},
   "outputs": [],
   "source": [
    "# Devem ser utilizados os dados da base de treino, para os cálculos, independente de qual base estiver criando a coluna.\n",
    "# 'Simulando' a criação do train_test_split:\n",
    "from sklearn.model_selection import train_test_split\n",
    "df_train, df_test = train_test_split(df_model, random_state= 15)"
   ]
  },
  {
   "cell_type": "markdown",
   "metadata": {},
   "source": [
    "A primeira métrica será a Taxa paga pelo passageiro em relação a taxa média paga pela sua classe. "
   ]
  },
  {
   "cell_type": "code",
   "execution_count": 13,
   "metadata": {},
   "outputs": [],
   "source": [
    "# Encontrando a Taxa média de cada classe:\n",
    "taxa_media_classe = df_train.groupby(\"Pclass\")[\"Fare\"].mean()  \n",
    "\n",
    "# Agora, uma nova coluna deve ser criada: \"Taxa_PelaMedia\", em ambos os DataSets\n",
    "df_train[\"Taxa_PelaMedia\"] = df_train[\"Fare\"] / df_train[\"Pclass\"].map(taxa_media_classe)\n",
    "df_test[\"Taxa_PelaMedia\"] = df_test[\"Fare\"] / df_train[\"Pclass\"].map(taxa_media_classe)"
   ]
  },
  {
   "cell_type": "markdown",
   "metadata": {},
   "source": [
    "Métrica da Taxa multiplicada a quantidade de irmãos ou conjuges."
   ]
  },
  {
   "cell_type": "code",
   "execution_count": 14,
   "metadata": {},
   "outputs": [],
   "source": [
    "df_train[\"Taxa_x_SibSp\"] = df_train[\"Fare\"] * df_train[\"SibSp\"]\n",
    "df_test[\"Taxa_x_SibSp\"] = df_test[\"Fare\"] * df_test[\"SibSp\"] # Aqui pode-se utilizar os próprio dados pois é um cálculo direto"
   ]
  },
  {
   "cell_type": "markdown",
   "metadata": {},
   "source": [
    "As duas features anteriores poderiam ser executadas na etapa de modelagem, porém, pela limitação desta base de dados, utilizaremos apenas a segunda, que não é necessário guardar nenhuma outra informação.\n",
    "\n",
    "Assim, aplicaremos a segunda feature ao df_model:"
   ]
  },
  {
   "cell_type": "code",
   "execution_count": 15,
   "metadata": {},
   "outputs": [],
   "source": [
    "df_model[\"Taxa_x_SibSp\"] = df_model[\"Fare\"] * df_model[\"SibSp\"]"
   ]
  },
  {
   "cell_type": "markdown",
   "metadata": {},
   "source": [
    "## Pré Enconding"
   ]
  },
  {
   "cell_type": "markdown",
   "metadata": {},
   "source": [
    "Como foi visto no EDA, a coluna \"Pclass\" está com o dtype (int64) errado, como é uma variável categórica, deve ser corrigida:"
   ]
  },
  {
   "cell_type": "code",
   "execution_count": 16,
   "metadata": {},
   "outputs": [
    {
     "data": {
      "text/plain": [
       "Survived          int64\n",
       "Pclass           object\n",
       "Sex              object\n",
       "Age             float64\n",
       "SibSp             int64\n",
       "Parch             int64\n",
       "Fare            float64\n",
       "Cabin            object\n",
       "Embarked         object\n",
       "Taxa_x_SibSp    float64\n",
       "dtype: object"
      ]
     },
     "execution_count": 16,
     "metadata": {},
     "output_type": "execute_result"
    }
   ],
   "source": [
    "# Corrigindo o dtype da coluna 'Pclass' para object:\n",
    "df_model['Pclass'] = df_model['Pclass'].astype(str)\n",
    "\n",
    "# Verificando a correção realizada\n",
    "df_model.dtypes "
   ]
  },
  {
   "cell_type": "markdown",
   "metadata": {},
   "source": [
    "## Salvando os dados"
   ]
  },
  {
   "cell_type": "code",
   "execution_count": 17,
   "metadata": {},
   "outputs": [],
   "source": [
    "# Utilizando a extensão parquet para salvar os datasets: \n",
    "df_model.to_parquet('df_model.parquet')"
   ]
  },
  {
   "cell_type": "markdown",
   "metadata": {},
   "source": [
    "### Conclusão\n",
    "\n",
    "Após toda a etapa de pré processamento ser realizada, incluindo a criação do código com as etapas resumidas para aplicação em novos dados, a próxima etapa é a modelagem, onde a execução dos modelos ocorrerá."
   ]
  }
 ],
 "metadata": {
  "kernelspec": {
   "display_name": "Python 3",
   "language": "python",
   "name": "python3"
  },
  "language_info": {
   "codemirror_mode": {
    "name": "ipython",
    "version": 3
   },
   "file_extension": ".py",
   "mimetype": "text/x-python",
   "name": "python",
   "nbconvert_exporter": "python",
   "pygments_lexer": "ipython3",
   "version": "3.12.6"
  }
 },
 "nbformat": 4,
 "nbformat_minor": 2
}
